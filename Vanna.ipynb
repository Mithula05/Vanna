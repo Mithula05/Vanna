{
  "cells": [
    {
      "cell_type": "markdown",
      "metadata": {
        "id": "view-in-github",
        "colab_type": "text"
      },
      "source": [
        "<a href=\"https://colab.research.google.com/github/Mithula05/Vanna/blob/main/Vanna.ipynb\" target=\"_parent\"><img src=\"https://colab.research.google.com/assets/colab-badge.svg\" alt=\"Open In Colab\"/></a>"
      ]
    },
    {
      "cell_type": "markdown",
      "source": [
        "Install **Vanna**"
      ],
      "metadata": {
        "id": "Zyz5uLrTHKDB"
      },
      "id": "Zyz5uLrTHKDB"
    },
    {
      "cell_type": "code",
      "source": [
        "!pip install vanna\n",
        "\n"
      ],
      "metadata": {
        "collapsed": true,
        "id": "AY_qrN9zFioP",
        "outputId": "9710cae9-0306-4b23-87ba-765853fcf09d",
        "colab": {
          "base_uri": "https://localhost:8080/"
        }
      },
      "id": "AY_qrN9zFioP",
      "execution_count": null,
      "outputs": [
        {
          "output_type": "stream",
          "name": "stdout",
          "text": [
            "Requirement already satisfied: vanna in /usr/local/lib/python3.12/dist-packages (0.7.9)\n",
            "Requirement already satisfied: requests in /usr/local/lib/python3.12/dist-packages (from vanna) (2.32.4)\n",
            "Requirement already satisfied: tabulate in /usr/local/lib/python3.12/dist-packages (from vanna) (0.9.0)\n",
            "Requirement already satisfied: plotly in /usr/local/lib/python3.12/dist-packages (from vanna) (5.24.1)\n",
            "Requirement already satisfied: pandas in /usr/local/lib/python3.12/dist-packages (from vanna) (2.3.3)\n",
            "Requirement already satisfied: sqlparse in /usr/local/lib/python3.12/dist-packages (from vanna) (0.5.3)\n",
            "Requirement already satisfied: kaleido in /usr/local/lib/python3.12/dist-packages (from vanna) (1.1.0)\n",
            "Requirement already satisfied: flask in /usr/local/lib/python3.12/dist-packages (from vanna) (3.1.2)\n",
            "Requirement already satisfied: flask-sock in /usr/local/lib/python3.12/dist-packages (from vanna) (0.7.0)\n",
            "Requirement already satisfied: flasgger in /usr/local/lib/python3.12/dist-packages (from vanna) (0.9.7.1)\n",
            "Requirement already satisfied: sqlalchemy in /usr/local/lib/python3.12/dist-packages (from vanna) (2.0.44)\n",
            "Requirement already satisfied: PyYAML>=3.0 in /usr/local/lib/python3.12/dist-packages (from flasgger->vanna) (6.0.3)\n",
            "Requirement already satisfied: jsonschema>=3.0.1 in /usr/local/lib/python3.12/dist-packages (from flasgger->vanna) (4.25.1)\n",
            "Requirement already satisfied: mistune in /usr/local/lib/python3.12/dist-packages (from flasgger->vanna) (3.1.4)\n",
            "Requirement already satisfied: six>=1.10.0 in /usr/local/lib/python3.12/dist-packages (from flasgger->vanna) (1.17.0)\n",
            "Requirement already satisfied: packaging in /usr/local/lib/python3.12/dist-packages (from flasgger->vanna) (25.0)\n",
            "Requirement already satisfied: blinker>=1.9.0 in /usr/local/lib/python3.12/dist-packages (from flask->vanna) (1.9.0)\n",
            "Requirement already satisfied: click>=8.1.3 in /usr/local/lib/python3.12/dist-packages (from flask->vanna) (8.3.0)\n",
            "Requirement already satisfied: itsdangerous>=2.2.0 in /usr/local/lib/python3.12/dist-packages (from flask->vanna) (2.2.0)\n",
            "Requirement already satisfied: jinja2>=3.1.2 in /usr/local/lib/python3.12/dist-packages (from flask->vanna) (3.1.6)\n",
            "Requirement already satisfied: markupsafe>=2.1.1 in /usr/local/lib/python3.12/dist-packages (from flask->vanna) (3.0.3)\n",
            "Requirement already satisfied: werkzeug>=3.1.0 in /usr/local/lib/python3.12/dist-packages (from flask->vanna) (3.1.3)\n",
            "Requirement already satisfied: simple-websocket>=0.5.1 in /usr/local/lib/python3.12/dist-packages (from flask-sock->vanna) (1.1.0)\n",
            "Requirement already satisfied: choreographer>=1.0.10 in /usr/local/lib/python3.12/dist-packages (from kaleido->vanna) (1.2.0)\n",
            "Requirement already satisfied: logistro>=1.0.8 in /usr/local/lib/python3.12/dist-packages (from kaleido->vanna) (2.0.0)\n",
            "Requirement already satisfied: orjson>=3.10.15 in /usr/local/lib/python3.12/dist-packages (from kaleido->vanna) (3.11.3)\n",
            "Requirement already satisfied: pytest-timeout>=2.4.0 in /usr/local/lib/python3.12/dist-packages (from kaleido->vanna) (2.4.0)\n",
            "Requirement already satisfied: numpy>=1.26.0 in /usr/local/lib/python3.12/dist-packages (from pandas->vanna) (2.0.2)\n",
            "Requirement already satisfied: python-dateutil>=2.8.2 in /usr/local/lib/python3.12/dist-packages (from pandas->vanna) (2.9.0.post0)\n",
            "Requirement already satisfied: pytz>=2020.1 in /usr/local/lib/python3.12/dist-packages (from pandas->vanna) (2025.2)\n",
            "Requirement already satisfied: tzdata>=2022.7 in /usr/local/lib/python3.12/dist-packages (from pandas->vanna) (2025.2)\n",
            "Requirement already satisfied: tenacity>=6.2.0 in /usr/local/lib/python3.12/dist-packages (from plotly->vanna) (8.5.0)\n",
            "Requirement already satisfied: charset_normalizer<4,>=2 in /usr/local/lib/python3.12/dist-packages (from requests->vanna) (3.4.4)\n",
            "Requirement already satisfied: idna<4,>=2.5 in /usr/local/lib/python3.12/dist-packages (from requests->vanna) (3.11)\n",
            "Requirement already satisfied: urllib3<3,>=1.21.1 in /usr/local/lib/python3.12/dist-packages (from requests->vanna) (2.3.0)\n",
            "Requirement already satisfied: certifi>=2017.4.17 in /usr/local/lib/python3.12/dist-packages (from requests->vanna) (2025.10.5)\n",
            "Requirement already satisfied: greenlet>=1 in /usr/local/lib/python3.12/dist-packages (from sqlalchemy->vanna) (3.2.4)\n",
            "Requirement already satisfied: typing-extensions>=4.6.0 in /usr/local/lib/python3.12/dist-packages (from sqlalchemy->vanna) (4.15.0)\n",
            "Requirement already satisfied: simplejson>=3.19.3 in /usr/local/lib/python3.12/dist-packages (from choreographer>=1.0.10->kaleido->vanna) (3.20.2)\n",
            "Requirement already satisfied: attrs>=22.2.0 in /usr/local/lib/python3.12/dist-packages (from jsonschema>=3.0.1->flasgger->vanna) (25.4.0)\n",
            "Requirement already satisfied: jsonschema-specifications>=2023.03.6 in /usr/local/lib/python3.12/dist-packages (from jsonschema>=3.0.1->flasgger->vanna) (2025.9.1)\n",
            "Requirement already satisfied: referencing>=0.28.4 in /usr/local/lib/python3.12/dist-packages (from jsonschema>=3.0.1->flasgger->vanna) (0.37.0)\n",
            "Requirement already satisfied: rpds-py>=0.7.1 in /usr/local/lib/python3.12/dist-packages (from jsonschema>=3.0.1->flasgger->vanna) (0.27.1)\n",
            "Requirement already satisfied: pytest>=7.0.0 in /usr/local/lib/python3.12/dist-packages (from pytest-timeout>=2.4.0->kaleido->vanna) (8.4.2)\n",
            "Requirement already satisfied: wsproto in /usr/local/lib/python3.12/dist-packages (from simple-websocket>=0.5.1->flask-sock->vanna) (1.2.0)\n",
            "Requirement already satisfied: iniconfig>=1 in /usr/local/lib/python3.12/dist-packages (from pytest>=7.0.0->pytest-timeout>=2.4.0->kaleido->vanna) (2.3.0)\n",
            "Requirement already satisfied: pluggy<2,>=1.5 in /usr/local/lib/python3.12/dist-packages (from pytest>=7.0.0->pytest-timeout>=2.4.0->kaleido->vanna) (1.6.0)\n",
            "Requirement already satisfied: pygments>=2.7.2 in /usr/local/lib/python3.12/dist-packages (from pytest>=7.0.0->pytest-timeout>=2.4.0->kaleido->vanna) (2.19.2)\n",
            "Requirement already satisfied: h11<1,>=0.9.0 in /usr/local/lib/python3.12/dist-packages (from wsproto->simple-websocket>=0.5.1->flask-sock->vanna) (0.16.0)\n"
          ]
        }
      ]
    },
    {
      "cell_type": "markdown",
      "source": [
        "Import Vanna"
      ],
      "metadata": {
        "id": "Cl4YOWMSHQG4"
      },
      "id": "Cl4YOWMSHQG4"
    },
    {
      "cell_type": "markdown",
      "source": [
        "Ask Question"
      ],
      "metadata": {
        "id": "0UqeQd3uHT3S"
      },
      "id": "0UqeQd3uHT3S"
    },
    {
      "cell_type": "code",
      "source": [
        "vn.connect_to_sqlite('https://vanna.ai/Chinook.sqlite')\n",
        "vn.ask('what are the top 10 artists by sales?')"
      ],
      "metadata": {
        "id": "2nHexGBFJNbe",
        "outputId": "5bdab4a4-e339-471a-caff-58d4ee858036",
        "colab": {
          "base_uri": "https://localhost:8080/",
          "height": 1000
        }
      },
      "id": "2nHexGBFJNbe",
      "execution_count": null,
      "outputs": [
        {
          "output_type": "stream",
          "name": "stdout",
          "text": [
            "SQL Prompt: [{'role': 'system', 'content': \"You are a SQLite expert. Please help to generate a SQL query to answer the question. Your response should ONLY be based on the given context and follow the response guidelines and format instructions. \\n===Tables \\nCREATE TABLE [Artist]\\n(\\n    [ArtistId] INTEGER  NOT NULL,\\n    [Name] NVARCHAR(120),\\n    CONSTRAINT [PK_Artist] PRIMARY KEY  ([ArtistId])\\n)\\n\\nCREATE TABLE [Album]\\n(\\n    [AlbumId] INTEGER  NOT NULL,\\n    [Title] NVARCHAR(160)  NOT NULL,\\n    [ArtistId] INTEGER  NOT NULL,\\n    CONSTRAINT [PK_Album] PRIMARY KEY  ([AlbumId]),\\n    FOREIGN KEY ([ArtistId]) REFERENCES [Artist] ([ArtistId]) \\n\\t\\tON DELETE NO ACTION ON UPDATE NO ACTION\\n)\\n\\nCREATE INDEX [IFK_AlbumArtistId] ON [Album] ([ArtistId])\\n\\nCREATE TABLE [Track]\\n(\\n    [TrackId] INTEGER  NOT NULL,\\n    [Name] NVARCHAR(200)  NOT NULL,\\n    [AlbumId] INTEGER,\\n    [MediaTypeId] INTEGER  NOT NULL,\\n    [GenreId] INTEGER,\\n    [Composer] NVARCHAR(220),\\n    [Milliseconds] INTEGER  NOT NULL,\\n    [Bytes] INTEGER,\\n    [UnitPrice] NUMERIC(10,2)  NOT NULL,\\n    CONSTRAINT [PK_Track] PRIMARY KEY  ([TrackId]),\\n    FOREIGN KEY ([AlbumId]) REFERENCES [Album] ([AlbumId]) \\n\\t\\tON DELETE NO ACTION ON UPDATE NO ACTION,\\n    FOREIGN KEY ([GenreId]) REFERENCES [Genre] ([GenreId]) \\n\\t\\tON DELETE NO ACTION ON UPDATE NO ACTION,\\n    FOREIGN KEY ([MediaTypeId]) REFERENCES [MediaType] ([MediaTypeId]) \\n\\t\\tON DELETE NO ACTION ON UPDATE NO ACTION\\n)\\n\\nCREATE TABLE [Playlist]\\n(\\n    [PlaylistId] INTEGER  NOT NULL,\\n    [Name] NVARCHAR(120),\\n    CONSTRAINT [PK_Playlist] PRIMARY KEY  ([PlaylistId])\\n)\\n\\nCREATE TABLE [InvoiceLine]\\n(\\n    [InvoiceLineId] INTEGER  NOT NULL,\\n    [InvoiceId] INTEGER  NOT NULL,\\n    [TrackId] INTEGER  NOT NULL,\\n    [UnitPrice] NUMERIC(10,2)  NOT NULL,\\n    [Quantity] INTEGER  NOT NULL,\\n    CONSTRAINT [PK_InvoiceLine] PRIMARY KEY  ([InvoiceLineId]),\\n    FOREIGN KEY ([InvoiceId]) REFERENCES [Invoice] ([InvoiceId]) \\n\\t\\tON DELETE NO ACTION ON UPDATE NO ACTION,\\n    FOREIGN KEY ([TrackId]) REFERENCES [Track] ([TrackId]) \\n\\t\\tON DELETE NO ACTION ON UPDATE NO ACTION\\n)\\n\\nCREATE TABLE [Genre]\\n(\\n    [GenreId] INTEGER  NOT NULL,\\n    [Name] NVARCHAR(120),\\n    CONSTRAINT [PK_Genre] PRIMARY KEY  ([GenreId])\\n)\\n\\nCREATE TABLE [Customer]\\n(\\n    [CustomerId] INTEGER  NOT NULL,\\n    [FirstName] NVARCHAR(40)  NOT NULL,\\n    [LastName] NVARCHAR(20)  NOT NULL,\\n    [Company] NVARCHAR(80),\\n    [Address] NVARCHAR(70),\\n    [City] NVARCHAR(40),\\n    [State] NVARCHAR(40),\\n    [Country] NVARCHAR(40),\\n    [PostalCode] NVARCHAR(10),\\n    [Phone] NVARCHAR(24),\\n    [Fax] NVARCHAR(24),\\n    [Email] NVARCHAR(60)  NOT NULL,\\n    [SupportRepId] INTEGER,\\n    CONSTRAINT [PK_Customer] PRIMARY KEY  ([CustomerId]),\\n    FOREIGN KEY ([SupportRepId]) REFERENCES [Employee] ([EmployeeId]) \\n\\t\\tON DELETE NO ACTION ON UPDATE NO ACTION\\n)\\n\\nCREATE TABLE [Employee]\\n(\\n    [EmployeeId] INTEGER  NOT NULL,\\n    [LastName] NVARCHAR(20)  NOT NULL,\\n    [FirstName] NVARCHAR(20)  NOT NULL,\\n    [Title] NVARCHAR(30),\\n    [ReportsTo] INTEGER,\\n    [BirthDate] DATETIME,\\n    [HireDate] DATETIME,\\n    [Address] NVARCHAR(70),\\n    [City] NVARCHAR(40),\\n    [State] NVARCHAR(40),\\n    [Country] NVARCHAR(40),\\n    [PostalCode] NVARCHAR(10),\\n    [Phone] NVARCHAR(24),\\n    [Fax] NVARCHAR(24),\\n    [Email] NVARCHAR(60),\\n    CONSTRAINT [PK_Employee] PRIMARY KEY  ([EmployeeId]),\\n    FOREIGN KEY ([ReportsTo]) REFERENCES [Employee] ([EmployeeId]) \\n\\t\\tON DELETE NO ACTION ON UPDATE NO ACTION\\n)\\n\\nCREATE TABLE [Invoice]\\n(\\n    [InvoiceId] INTEGER  NOT NULL,\\n    [CustomerId] INTEGER  NOT NULL,\\n    [InvoiceDate] DATETIME  NOT NULL,\\n    [BillingAddress] NVARCHAR(70),\\n    [BillingCity] NVARCHAR(40),\\n    [BillingState] NVARCHAR(40),\\n    [BillingCountry] NVARCHAR(40),\\n    [BillingPostalCode] NVARCHAR(10),\\n    [Total] NUMERIC(10,2)  NOT NULL,\\n    CONSTRAINT [PK_Invoice] PRIMARY KEY  ([InvoiceId]),\\n    FOREIGN KEY ([CustomerId]) REFERENCES [Customer] ([CustomerId]) \\n\\t\\tON DELETE NO ACTION ON UPDATE NO ACTION\\n)\\n\\n\\n===Additional Context \\n\\nThis is a SQLite database. For dates rememeber to use SQLite syntax.\\n\\n===Response Guidelines \\n1. If the provided context is sufficient, please generate a valid SQL query without any explanations for the question. \\n2. If the provided context is almost sufficient but requires knowledge of a specific string in a particular column, please generate an intermediate SQL query to find the distinct strings in that column. Prepend the query with a comment saying intermediate_sql \\n3. If the provided context is insufficient, please explain why it can't be generated. \\n4. Please use the most relevant table(s). \\n5. If the question has been asked and answered before, please repeat the answer exactly as it was given before. \\n6. Ensure that the output SQL is SQLite-compliant and executable, and free of syntax errors. \\n\"}, {'role': 'user', 'content': 'What are the top 10 artists by sales?'}, {'role': 'assistant', 'content': 'SELECT a.ArtistId, a.Name, SUM(il.Quantity) AS TotalSales\\nFROM Artist a\\nINNER JOIN Album al ON a.ArtistId = al.ArtistId\\nINNER JOIN Track t ON al.AlbumId = t.AlbumId\\nINNER JOIN InvoiceLine il ON t.TrackId = il.TrackId\\nGROUP BY a.ArtistId, a.Name\\nORDER BY TotalSales DESC\\nLIMIT 10;'}, {'role': 'user', 'content': 'What are the top 10 Jazz artists by sales per year?'}, {'role': 'assistant', 'content': \"SELECT a.ArtistId, a.Name, strftime('%Y', i.InvoiceDate) AS Year, SUM(il.Quantity) AS TotalSales\\nFROM Artist a\\nJOIN Album al ON a.ArtistId = al.ArtistId\\nJOIN Track t ON al.AlbumId = t.AlbumId\\nJOIN InvoiceLine il ON t.TrackId = il.TrackId\\nJOIN Invoice i ON il.InvoiceId = i.InvoiceId\\nJOIN Genre g ON t.GenreId = g.GenreId\\nWHERE g.Name = 'Jazz'\\nGROUP BY a.ArtistId, a.Name, Year\\nORDER BY TotalSales DESC\\nLIMIT 10;\"}, {'role': 'user', 'content': 'What are the top 10 jazz artists by sales?'}, {'role': 'assistant', 'content': \"SELECT a.ArtistId, a.Name, SUM(il.Quantity) AS TotalSales\\nFROM Artist a\\nJOIN Album al ON a.ArtistId = al.ArtistId\\nJOIN Track t ON al.AlbumId = t.AlbumId\\nJOIN InvoiceLine il ON t.TrackId = il.TrackId\\nJOIN Genre g ON t.GenreId = g.GenreId\\nWHERE g.Name = 'Jazz'\\nGROUP BY a.ArtistId, a.Name\\nORDER BY TotalSales DESC\\nLIMIT 10;\"}, {'role': 'user', 'content': 'What are the top 11artists by sales?'}, {'role': 'assistant', 'content': 'SELECT a.ArtistId, a.Name, SUM(il.Quantity) AS TotalSales\\nFROM Artist a\\nJOIN Album al ON a.ArtistId = al.ArtistId\\nJOIN Track t ON al.AlbumId = t.AlbumId\\nJOIN InvoiceLine il ON t.TrackId = il.TrackId\\nGROUP BY a.ArtistId, a.Name\\nORDER BY TotalSales DESC\\nLIMIT 11;'}, {'role': 'user', 'content': 'What are the top 10 artists by sales? 使用中文'}, {'role': 'assistant', 'content': 'SELECT a.ArtistId, a.Name, SUM(il.Quantity) AS TotalSales\\nFROM Artist a\\nJOIN Album al ON a.ArtistId = al.ArtistId\\nJOIN Track t ON al.AlbumId = t.AlbumId\\nJOIN InvoiceLine il ON t.TrackId = il.TrackId\\nGROUP BY a.ArtistId, a.Name\\nORDER BY TotalSales DESC\\nLIMIT 10;'}, {'role': 'user', 'content': 'What are the top 10 albums by sales?'}, {'role': 'assistant', 'content': 'SELECT a.AlbumId, a.Title, SUM(il.Quantity) AS TotalSales\\nFROM Album a\\nINNER JOIN Track t ON a.AlbumId = t.AlbumId\\nINNER JOIN InvoiceLine il ON t.TrackId = il.TrackId\\nGROUP BY a.AlbumId, a.Title\\nORDER BY TotalSales DESC\\nLIMIT 10;'}, {'role': 'user', 'content': 'What are the top 7 artists by sales order by sales?'}, {'role': 'assistant', 'content': 'SELECT a.ArtistId, a.Name, SUM(il.Quantity) AS TotalSales\\nFROM Artist a\\nINNER JOIN Album al ON a.ArtistId = al.ArtistId\\nINNER JOIN Track t ON al.AlbumId = t.AlbumId\\nINNER JOIN InvoiceLine il ON t.TrackId = il.TrackId\\nGROUP BY a.ArtistId, a.Name\\nORDER BY TotalSales DESC\\nLIMIT 7;'}, {'role': 'user', 'content': 'Whath are the top 10 artists.'}, {'role': 'assistant', 'content': 'SELECT *\\nFROM Artist\\nORDER BY ArtistId\\nLIMIT 10;'}, {'role': 'user', 'content': 'What are the top 5 artists by sales?'}, {'role': 'assistant', 'content': 'SELECT a.ArtistId, a.Name, SUM(il.Quantity) AS TotalSales\\nFROM Artist a\\nJOIN Album al ON a.ArtistId = al.ArtistId\\nJOIN Track t ON al.AlbumId = t.AlbumId\\nJOIN InvoiceLine il ON t.TrackId = il.TrackId\\nGROUP BY a.ArtistId, a.Name\\nORDER BY TotalSales DESC\\nLIMIT 5;'}, {'role': 'user', 'content': 'What are the top 7 artists based on sales?'}, {'role': 'assistant', 'content': 'SELECT a.ArtistId, a.Name, SUM(il.Quantity) AS TotalSales\\nFROM Artist a\\nJOIN Album al ON a.ArtistId = al.ArtistId\\nJOIN Track t ON al.AlbumId = t.AlbumId\\nJOIN InvoiceLine il ON t.TrackId = il.TrackId\\nGROUP BY a.ArtistId, a.Name\\nORDER BY TotalSales DESC\\nLIMIT 7;'}, {'role': 'user', 'content': 'what are the top 10 artists by sales?'}]\n",
            "LLM Response: SELECT a.ArtistId, a.Name, SUM(il.Quantity) AS TotalSales\n",
            "FROM Artist a\n",
            "JOIN Album al ON a.ArtistId = al.ArtistId\n",
            "JOIN Track t ON al.AlbumId = t.AlbumId\n",
            "JOIN InvoiceLine il ON t.TrackId = il.TrackId\n",
            "GROUP BY a.ArtistId, a.Name\n",
            "ORDER BY TotalSales DESC\n",
            "LIMIT 10;\n",
            "Extracted SQL: SELECT a.ArtistId, a.Name, SUM(il.Quantity) AS TotalSales\n",
            "FROM Artist a\n",
            "JOIN Album al ON a.ArtistId = al.ArtistId\n",
            "JOIN Track t ON al.AlbumId = t.AlbumId\n",
            "JOIN InvoiceLine il ON t.TrackId = il.TrackId\n",
            "GROUP BY a.ArtistId, a.Name\n",
            "ORDER BY TotalSales DESC\n",
            "LIMIT 10;\n",
            "SELECT a.ArtistId, a.Name, SUM(il.Quantity) AS TotalSales\n",
            "FROM Artist a\n",
            "JOIN Album al ON a.ArtistId = al.ArtistId\n",
            "JOIN Track t ON al.AlbumId = t.AlbumId\n",
            "JOIN InvoiceLine il ON t.TrackId = il.TrackId\n",
            "GROUP BY a.ArtistId, a.Name\n",
            "ORDER BY TotalSales DESC\n",
            "LIMIT 10;\n",
            "   ArtistId                     Name  TotalSales\n",
            "0        90              Iron Maiden         140\n",
            "1       150                       U2         107\n",
            "2        50                Metallica          91\n",
            "3        22             Led Zeppelin          87\n",
            "4       113  Os Paralamas Do Sucesso          45\n",
            "5        58              Deep Purple          44\n",
            "6        82            Faith No More          42\n",
            "7       149                     Lost          41\n",
            "8        81             Eric Clapton          40\n",
            "9       124                   R.E.M.          39\n"
          ]
        },
        {
          "output_type": "display_data",
          "data": {
            "text/html": [
              "<html>\n",
              "<head><meta charset=\"utf-8\" /></head>\n",
              "<body>\n",
              "    <div>            <script src=\"https://cdnjs.cloudflare.com/ajax/libs/mathjax/2.7.5/MathJax.js?config=TeX-AMS-MML_SVG\"></script><script type=\"text/javascript\">if (window.MathJax && window.MathJax.Hub && window.MathJax.Hub.Config) {window.MathJax.Hub.Config({SVG: {font: \"STIX-Web\"}});}</script>                <script type=\"text/javascript\">window.PlotlyConfig = {MathJaxConfig: 'local'};</script>\n",
              "        <script charset=\"utf-8\" src=\"https://cdn.plot.ly/plotly-2.35.2.min.js\"></script>                <div id=\"2b0f3ef6-2cac-4c88-ba49-604bf09c4c6d\" class=\"plotly-graph-div\" style=\"height:525px; width:100%;\"></div>            <script type=\"text/javascript\">                                    window.PLOTLYENV=window.PLOTLYENV || {};                                    if (document.getElementById(\"2b0f3ef6-2cac-4c88-ba49-604bf09c4c6d\")) {                    Plotly.newPlot(                        \"2b0f3ef6-2cac-4c88-ba49-604bf09c4c6d\",                        [{\"x\":[\"Iron Maiden\",\"U2\",\"Metallica\",\"Led Zeppelin\",\"Os Paralamas Do Sucesso\",\"Deep Purple\",\"Faith No More\",\"Lost\",\"Eric Clapton\",\"R.E.M.\"],\"y\":[140,107,91,87,45,44,42,41,40,39],\"type\":\"bar\"}],                        {\"template\":{\"data\":{\"barpolar\":[{\"marker\":{\"line\":{\"color\":\"rgb(17,17,17)\",\"width\":0.5},\"pattern\":{\"fillmode\":\"overlay\",\"size\":10,\"solidity\":0.2}},\"type\":\"barpolar\"}],\"bar\":[{\"error_x\":{\"color\":\"#f2f5fa\"},\"error_y\":{\"color\":\"#f2f5fa\"},\"marker\":{\"line\":{\"color\":\"rgb(17,17,17)\",\"width\":0.5},\"pattern\":{\"fillmode\":\"overlay\",\"size\":10,\"solidity\":0.2}},\"type\":\"bar\"}],\"carpet\":[{\"aaxis\":{\"endlinecolor\":\"#A2B1C6\",\"gridcolor\":\"#506784\",\"linecolor\":\"#506784\",\"minorgridcolor\":\"#506784\",\"startlinecolor\":\"#A2B1C6\"},\"baxis\":{\"endlinecolor\":\"#A2B1C6\",\"gridcolor\":\"#506784\",\"linecolor\":\"#506784\",\"minorgridcolor\":\"#506784\",\"startlinecolor\":\"#A2B1C6\"},\"type\":\"carpet\"}],\"choropleth\":[{\"colorbar\":{\"outlinewidth\":0,\"ticks\":\"\"},\"type\":\"choropleth\"}],\"contourcarpet\":[{\"colorbar\":{\"outlinewidth\":0,\"ticks\":\"\"},\"type\":\"contourcarpet\"}],\"contour\":[{\"colorbar\":{\"outlinewidth\":0,\"ticks\":\"\"},\"colorscale\":[[0.0,\"#0d0887\"],[0.1111111111111111,\"#46039f\"],[0.2222222222222222,\"#7201a8\"],[0.3333333333333333,\"#9c179e\"],[0.4444444444444444,\"#bd3786\"],[0.5555555555555556,\"#d8576b\"],[0.6666666666666666,\"#ed7953\"],[0.7777777777777778,\"#fb9f3a\"],[0.8888888888888888,\"#fdca26\"],[1.0,\"#f0f921\"]],\"type\":\"contour\"}],\"heatmapgl\":[{\"colorbar\":{\"outlinewidth\":0,\"ticks\":\"\"},\"colorscale\":[[0.0,\"#0d0887\"],[0.1111111111111111,\"#46039f\"],[0.2222222222222222,\"#7201a8\"],[0.3333333333333333,\"#9c179e\"],[0.4444444444444444,\"#bd3786\"],[0.5555555555555556,\"#d8576b\"],[0.6666666666666666,\"#ed7953\"],[0.7777777777777778,\"#fb9f3a\"],[0.8888888888888888,\"#fdca26\"],[1.0,\"#f0f921\"]],\"type\":\"heatmapgl\"}],\"heatmap\":[{\"colorbar\":{\"outlinewidth\":0,\"ticks\":\"\"},\"colorscale\":[[0.0,\"#0d0887\"],[0.1111111111111111,\"#46039f\"],[0.2222222222222222,\"#7201a8\"],[0.3333333333333333,\"#9c179e\"],[0.4444444444444444,\"#bd3786\"],[0.5555555555555556,\"#d8576b\"],[0.6666666666666666,\"#ed7953\"],[0.7777777777777778,\"#fb9f3a\"],[0.8888888888888888,\"#fdca26\"],[1.0,\"#f0f921\"]],\"type\":\"heatmap\"}],\"histogram2dcontour\":[{\"colorbar\":{\"outlinewidth\":0,\"ticks\":\"\"},\"colorscale\":[[0.0,\"#0d0887\"],[0.1111111111111111,\"#46039f\"],[0.2222222222222222,\"#7201a8\"],[0.3333333333333333,\"#9c179e\"],[0.4444444444444444,\"#bd3786\"],[0.5555555555555556,\"#d8576b\"],[0.6666666666666666,\"#ed7953\"],[0.7777777777777778,\"#fb9f3a\"],[0.8888888888888888,\"#fdca26\"],[1.0,\"#f0f921\"]],\"type\":\"histogram2dcontour\"}],\"histogram2d\":[{\"colorbar\":{\"outlinewidth\":0,\"ticks\":\"\"},\"colorscale\":[[0.0,\"#0d0887\"],[0.1111111111111111,\"#46039f\"],[0.2222222222222222,\"#7201a8\"],[0.3333333333333333,\"#9c179e\"],[0.4444444444444444,\"#bd3786\"],[0.5555555555555556,\"#d8576b\"],[0.6666666666666666,\"#ed7953\"],[0.7777777777777778,\"#fb9f3a\"],[0.8888888888888888,\"#fdca26\"],[1.0,\"#f0f921\"]],\"type\":\"histogram2d\"}],\"histogram\":[{\"marker\":{\"pattern\":{\"fillmode\":\"overlay\",\"size\":10,\"solidity\":0.2}},\"type\":\"histogram\"}],\"mesh3d\":[{\"colorbar\":{\"outlinewidth\":0,\"ticks\":\"\"},\"type\":\"mesh3d\"}],\"parcoords\":[{\"line\":{\"colorbar\":{\"outlinewidth\":0,\"ticks\":\"\"}},\"type\":\"parcoords\"}],\"pie\":[{\"automargin\":true,\"type\":\"pie\"}],\"scatter3d\":[{\"line\":{\"colorbar\":{\"outlinewidth\":0,\"ticks\":\"\"}},\"marker\":{\"colorbar\":{\"outlinewidth\":0,\"ticks\":\"\"}},\"type\":\"scatter3d\"}],\"scattercarpet\":[{\"marker\":{\"colorbar\":{\"outlinewidth\":0,\"ticks\":\"\"}},\"type\":\"scattercarpet\"}],\"scattergeo\":[{\"marker\":{\"colorbar\":{\"outlinewidth\":0,\"ticks\":\"\"}},\"type\":\"scattergeo\"}],\"scattergl\":[{\"marker\":{\"line\":{\"color\":\"#283442\"}},\"type\":\"scattergl\"}],\"scattermapbox\":[{\"marker\":{\"colorbar\":{\"outlinewidth\":0,\"ticks\":\"\"}},\"type\":\"scattermapbox\"}],\"scatterpolargl\":[{\"marker\":{\"colorbar\":{\"outlinewidth\":0,\"ticks\":\"\"}},\"type\":\"scatterpolargl\"}],\"scatterpolar\":[{\"marker\":{\"colorbar\":{\"outlinewidth\":0,\"ticks\":\"\"}},\"type\":\"scatterpolar\"}],\"scatter\":[{\"marker\":{\"line\":{\"color\":\"#283442\"}},\"type\":\"scatter\"}],\"scatterternary\":[{\"marker\":{\"colorbar\":{\"outlinewidth\":0,\"ticks\":\"\"}},\"type\":\"scatterternary\"}],\"surface\":[{\"colorbar\":{\"outlinewidth\":0,\"ticks\":\"\"},\"colorscale\":[[0.0,\"#0d0887\"],[0.1111111111111111,\"#46039f\"],[0.2222222222222222,\"#7201a8\"],[0.3333333333333333,\"#9c179e\"],[0.4444444444444444,\"#bd3786\"],[0.5555555555555556,\"#d8576b\"],[0.6666666666666666,\"#ed7953\"],[0.7777777777777778,\"#fb9f3a\"],[0.8888888888888888,\"#fdca26\"],[1.0,\"#f0f921\"]],\"type\":\"surface\"}],\"table\":[{\"cells\":{\"fill\":{\"color\":\"#506784\"},\"line\":{\"color\":\"rgb(17,17,17)\"}},\"header\":{\"fill\":{\"color\":\"#2a3f5f\"},\"line\":{\"color\":\"rgb(17,17,17)\"}},\"type\":\"table\"}]},\"layout\":{\"annotationdefaults\":{\"arrowcolor\":\"#f2f5fa\",\"arrowhead\":0,\"arrowwidth\":1},\"autotypenumbers\":\"strict\",\"coloraxis\":{\"colorbar\":{\"outlinewidth\":0,\"ticks\":\"\"}},\"colorscale\":{\"diverging\":[[0,\"#8e0152\"],[0.1,\"#c51b7d\"],[0.2,\"#de77ae\"],[0.3,\"#f1b6da\"],[0.4,\"#fde0ef\"],[0.5,\"#f7f7f7\"],[0.6,\"#e6f5d0\"],[0.7,\"#b8e186\"],[0.8,\"#7fbc41\"],[0.9,\"#4d9221\"],[1,\"#276419\"]],\"sequential\":[[0.0,\"#0d0887\"],[0.1111111111111111,\"#46039f\"],[0.2222222222222222,\"#7201a8\"],[0.3333333333333333,\"#9c179e\"],[0.4444444444444444,\"#bd3786\"],[0.5555555555555556,\"#d8576b\"],[0.6666666666666666,\"#ed7953\"],[0.7777777777777778,\"#fb9f3a\"],[0.8888888888888888,\"#fdca26\"],[1.0,\"#f0f921\"]],\"sequentialminus\":[[0.0,\"#0d0887\"],[0.1111111111111111,\"#46039f\"],[0.2222222222222222,\"#7201a8\"],[0.3333333333333333,\"#9c179e\"],[0.4444444444444444,\"#bd3786\"],[0.5555555555555556,\"#d8576b\"],[0.6666666666666666,\"#ed7953\"],[0.7777777777777778,\"#fb9f3a\"],[0.8888888888888888,\"#fdca26\"],[1.0,\"#f0f921\"]]},\"colorway\":[\"#636efa\",\"#EF553B\",\"#00cc96\",\"#ab63fa\",\"#FFA15A\",\"#19d3f3\",\"#FF6692\",\"#B6E880\",\"#FF97FF\",\"#FECB52\"],\"font\":{\"color\":\"#f2f5fa\"},\"geo\":{\"bgcolor\":\"rgb(17,17,17)\",\"lakecolor\":\"rgb(17,17,17)\",\"landcolor\":\"rgb(17,17,17)\",\"showlakes\":true,\"showland\":true,\"subunitcolor\":\"#506784\"},\"hoverlabel\":{\"align\":\"left\"},\"hovermode\":\"closest\",\"mapbox\":{\"style\":\"dark\"},\"paper_bgcolor\":\"rgb(17,17,17)\",\"plot_bgcolor\":\"rgb(17,17,17)\",\"polar\":{\"angularaxis\":{\"gridcolor\":\"#506784\",\"linecolor\":\"#506784\",\"ticks\":\"\"},\"bgcolor\":\"rgb(17,17,17)\",\"radialaxis\":{\"gridcolor\":\"#506784\",\"linecolor\":\"#506784\",\"ticks\":\"\"}},\"scene\":{\"xaxis\":{\"backgroundcolor\":\"rgb(17,17,17)\",\"gridcolor\":\"#506784\",\"gridwidth\":2,\"linecolor\":\"#506784\",\"showbackground\":true,\"ticks\":\"\",\"zerolinecolor\":\"#C8D4E3\"},\"yaxis\":{\"backgroundcolor\":\"rgb(17,17,17)\",\"gridcolor\":\"#506784\",\"gridwidth\":2,\"linecolor\":\"#506784\",\"showbackground\":true,\"ticks\":\"\",\"zerolinecolor\":\"#C8D4E3\"},\"zaxis\":{\"backgroundcolor\":\"rgb(17,17,17)\",\"gridcolor\":\"#506784\",\"gridwidth\":2,\"linecolor\":\"#506784\",\"showbackground\":true,\"ticks\":\"\",\"zerolinecolor\":\"#C8D4E3\"}},\"shapedefaults\":{\"line\":{\"color\":\"#f2f5fa\"}},\"sliderdefaults\":{\"bgcolor\":\"#C8D4E3\",\"bordercolor\":\"rgb(17,17,17)\",\"borderwidth\":1,\"tickwidth\":0},\"ternary\":{\"aaxis\":{\"gridcolor\":\"#506784\",\"linecolor\":\"#506784\",\"ticks\":\"\"},\"baxis\":{\"gridcolor\":\"#506784\",\"linecolor\":\"#506784\",\"ticks\":\"\"},\"bgcolor\":\"rgb(17,17,17)\",\"caxis\":{\"gridcolor\":\"#506784\",\"linecolor\":\"#506784\",\"ticks\":\"\"}},\"title\":{\"x\":0.05},\"updatemenudefaults\":{\"bgcolor\":\"#506784\",\"borderwidth\":0},\"xaxis\":{\"automargin\":true,\"gridcolor\":\"#283442\",\"linecolor\":\"#506784\",\"ticks\":\"\",\"title\":{\"standoff\":15},\"zerolinecolor\":\"#283442\",\"zerolinewidth\":2},\"yaxis\":{\"automargin\":true,\"gridcolor\":\"#283442\",\"linecolor\":\"#506784\",\"ticks\":\"\",\"title\":{\"standoff\":15},\"zerolinecolor\":\"#283442\",\"zerolinewidth\":2}}},\"title\":{\"text\":\"Top 10 Artists by Sales\"},\"xaxis\":{\"title\":{\"text\":\"Artists\"}},\"yaxis\":{\"title\":{\"text\":\"Total Sales\"}}},                        {\"responsive\": true}                    ).then(function(){\n",
              "                            \n",
              "var gd = document.getElementById('2b0f3ef6-2cac-4c88-ba49-604bf09c4c6d');\n",
              "var x = new MutationObserver(function (mutations, observer) {{\n",
              "        var display = window.getComputedStyle(gd).display;\n",
              "        if (!display || display === 'none') {{\n",
              "            console.log([gd, 'removed!']);\n",
              "            Plotly.purge(gd);\n",
              "            observer.disconnect();\n",
              "        }}\n",
              "}});\n",
              "\n",
              "// Listen for the removal of the full notebook cells\n",
              "var notebookContainer = gd.closest('#notebook-container');\n",
              "if (notebookContainer) {{\n",
              "    x.observe(notebookContainer, {childList: true});\n",
              "}}\n",
              "\n",
              "// Listen for the clearing of the current output cell\n",
              "var outputEl = gd.closest('.output');\n",
              "if (outputEl) {{\n",
              "    x.observe(outputEl, {childList: true});\n",
              "}}\n",
              "\n",
              "                        })                };                            </script>        </div>\n",
              "</body>\n",
              "</html>"
            ]
          },
          "metadata": {}
        },
        {
          "output_type": "execute_result",
          "data": {
            "text/plain": [
              "('SELECT a.ArtistId, a.Name, SUM(il.Quantity) AS TotalSales\\nFROM Artist a\\nJOIN Album al ON a.ArtistId = al.ArtistId\\nJOIN Track t ON al.AlbumId = t.AlbumId\\nJOIN InvoiceLine il ON t.TrackId = il.TrackId\\nGROUP BY a.ArtistId, a.Name\\nORDER BY TotalSales DESC\\nLIMIT 10;',\n",
              "    ArtistId                     Name  TotalSales\n",
              " 0        90              Iron Maiden         140\n",
              " 1       150                       U2         107\n",
              " 2        50                Metallica          91\n",
              " 3        22             Led Zeppelin          87\n",
              " 4       113  Os Paralamas Do Sucesso          45\n",
              " 5        58              Deep Purple          44\n",
              " 6        82            Faith No More          42\n",
              " 7       149                     Lost          41\n",
              " 8        81             Eric Clapton          40\n",
              " 9       124                   R.E.M.          39,\n",
              " Figure({\n",
              "     'data': [{'type': 'bar',\n",
              "               'x': array(['Iron Maiden', 'U2', 'Metallica', 'Led Zeppelin',\n",
              "                           'Os Paralamas Do Sucesso', 'Deep Purple', 'Faith No More', 'Lost',\n",
              "                           'Eric Clapton', 'R.E.M.'], dtype=object),\n",
              "               'y': array([140, 107,  91,  87,  45,  44,  42,  41,  40,  39])}],\n",
              "     'layout': {'template': '...',\n",
              "                'title': {'text': 'Top 10 Artists by Sales'},\n",
              "                'xaxis': {'title': {'text': 'Artists'}},\n",
              "                'yaxis': {'title': {'text': 'Total Sales'}}}\n",
              " }))"
            ]
          },
          "metadata": {},
          "execution_count": 14
        }
      ]
    },
    {
      "cell_type": "markdown",
      "source": [
        "Run"
      ],
      "metadata": {
        "id": "NYeYpd0SHZDh"
      },
      "id": "NYeYpd0SHZDh"
    },
    {
      "cell_type": "code",
      "source": [
        "from vanna.flask import VannaFlaskApp\n",
        "VannaFlaskApp(vn).run()"
      ],
      "metadata": {
        "id": "tzXadqKOJI4n",
        "outputId": "3883049d-60e7-44b4-a404-641717cdd3fe",
        "colab": {
          "base_uri": "https://localhost:8080/",
          "height": 340
        }
      },
      "id": "tzXadqKOJI4n",
      "execution_count": null,
      "outputs": [
        {
          "metadata": {
            "tags": null
          },
          "name": "stdout",
          "output_type": "stream",
          "text": [
            "Google Colab doesn't support running websocket servers. Disabling debug mode.\n",
            "\u001b[31mWarning: This function may stop working due to changes in browser security.\n",
            "Try `serve_kernel_port_as_iframe` instead. \u001b[0m\n"
          ]
        },
        {
          "data": {
            "application/javascript": [
              "(async (port, path, text, element) => {\n",
              "    if (!google.colab.kernel.accessAllowed) {\n",
              "      return;\n",
              "    }\n",
              "    element.appendChild(document.createTextNode(''));\n",
              "    const url = await google.colab.kernel.proxyPort(port);\n",
              "    const anchor = document.createElement('a');\n",
              "    anchor.href = new URL(path, url).toString();\n",
              "    anchor.target = '_blank';\n",
              "    anchor.setAttribute('data-href', url + path);\n",
              "    anchor.textContent = text;\n",
              "    element.appendChild(anchor);\n",
              "  })(8084, \"/\", \"https://localhost:8084/\", window.element)"
            ],
            "text/plain": [
              "<IPython.core.display.Javascript object>"
            ]
          },
          "metadata": {},
          "output_type": "display_data"
        },
        {
          "metadata": {
            "tags": null
          },
          "name": "stdout",
          "output_type": "stream",
          "text": [
            "Your app is running at:\n",
            "https://8084-gpu-t4-s-ajk20a70b7h2-b.us-west1-0.prod.colab.dev\n",
            " * Serving Flask app 'vanna.flask'\n",
            " * Debug mode: off\n",
            "Info: None\n",
            "None\n",
            "SQL Prompt: [{'role': 'system', 'content': \"You are a SQLite expert. Please help to generate a SQL query to answer the question. Your response should ONLY be based on the given context and follow the response guidelines and format instructions. \\n===Tables \\nCREATE TABLE [Invoice]\\n(\\n    [InvoiceId] INTEGER  NOT NULL,\\n    [CustomerId] INTEGER  NOT NULL,\\n    [InvoiceDate] DATETIME  NOT NULL,\\n    [BillingAddress] NVARCHAR(70),\\n    [BillingCity] NVARCHAR(40),\\n    [BillingState] NVARCHAR(40),\\n    [BillingCountry] NVARCHAR(40),\\n    [BillingPostalCode] NVARCHAR(10),\\n    [Total] NUMERIC(10,2)  NOT NULL,\\n    CONSTRAINT [PK_Invoice] PRIMARY KEY  ([InvoiceId]),\\n    FOREIGN KEY ([CustomerId]) REFERENCES [Customer] ([CustomerId]) \\n\\t\\tON DELETE NO ACTION ON UPDATE NO ACTION\\n)\\n\\nCREATE TABLE [Customer]\\n(\\n    [CustomerId] INTEGER  NOT NULL,\\n    [FirstName] NVARCHAR(40)  NOT NULL,\\n    [LastName] NVARCHAR(20)  NOT NULL,\\n    [Company] NVARCHAR(80),\\n    [Address] NVARCHAR(70),\\n    [City] NVARCHAR(40),\\n    [State] NVARCHAR(40),\\n    [Country] NVARCHAR(40),\\n    [PostalCode] NVARCHAR(10),\\n    [Phone] NVARCHAR(24),\\n    [Fax] NVARCHAR(24),\\n    [Email] NVARCHAR(60)  NOT NULL,\\n    [SupportRepId] INTEGER,\\n    CONSTRAINT [PK_Customer] PRIMARY KEY  ([CustomerId]),\\n    FOREIGN KEY ([SupportRepId]) REFERENCES [Employee] ([EmployeeId]) \\n\\t\\tON DELETE NO ACTION ON UPDATE NO ACTION\\n)\\n\\nCREATE TABLE [InvoiceLine]\\n(\\n    [InvoiceLineId] INTEGER  NOT NULL,\\n    [InvoiceId] INTEGER  NOT NULL,\\n    [TrackId] INTEGER  NOT NULL,\\n    [UnitPrice] NUMERIC(10,2)  NOT NULL,\\n    [Quantity] INTEGER  NOT NULL,\\n    CONSTRAINT [PK_InvoiceLine] PRIMARY KEY  ([InvoiceLineId]),\\n    FOREIGN KEY ([InvoiceId]) REFERENCES [Invoice] ([InvoiceId]) \\n\\t\\tON DELETE NO ACTION ON UPDATE NO ACTION,\\n    FOREIGN KEY ([TrackId]) REFERENCES [Track] ([TrackId]) \\n\\t\\tON DELETE NO ACTION ON UPDATE NO ACTION\\n)\\n\\nCREATE TABLE [Employee]\\n(\\n    [EmployeeId] INTEGER  NOT NULL,\\n    [LastName] NVARCHAR(20)  NOT NULL,\\n    [FirstName] NVARCHAR(20)  NOT NULL,\\n    [Title] NVARCHAR(30),\\n    [ReportsTo] INTEGER,\\n    [BirthDate] DATETIME,\\n    [HireDate] DATETIME,\\n    [Address] NVARCHAR(70),\\n    [City] NVARCHAR(40),\\n    [State] NVARCHAR(40),\\n    [Country] NVARCHAR(40),\\n    [PostalCode] NVARCHAR(10),\\n    [Phone] NVARCHAR(24),\\n    [Fax] NVARCHAR(24),\\n    [Email] NVARCHAR(60),\\n    CONSTRAINT [PK_Employee] PRIMARY KEY  ([EmployeeId]),\\n    FOREIGN KEY ([ReportsTo]) REFERENCES [Employee] ([EmployeeId]) \\n\\t\\tON DELETE NO ACTION ON UPDATE NO ACTION\\n)\\n\\nCREATE TABLE [Genre]\\n(\\n    [GenreId] INTEGER  NOT NULL,\\n    [Name] NVARCHAR(120),\\n    CONSTRAINT [PK_Genre] PRIMARY KEY  ([GenreId])\\n)\\n\\nCREATE TABLE [Album]\\n(\\n    [AlbumId] INTEGER  NOT NULL,\\n    [Title] NVARCHAR(160)  NOT NULL,\\n    [ArtistId] INTEGER  NOT NULL,\\n    CONSTRAINT [PK_Album] PRIMARY KEY  ([AlbumId]),\\n    FOREIGN KEY ([ArtistId]) REFERENCES [Artist] ([ArtistId]) \\n\\t\\tON DELETE NO ACTION ON UPDATE NO ACTION\\n)\\n\\nCREATE TABLE [Track]\\n(\\n    [TrackId] INTEGER  NOT NULL,\\n    [Name] NVARCHAR(200)  NOT NULL,\\n    [AlbumId] INTEGER,\\n    [MediaTypeId] INTEGER  NOT NULL,\\n    [GenreId] INTEGER,\\n    [Composer] NVARCHAR(220),\\n    [Milliseconds] INTEGER  NOT NULL,\\n    [Bytes] INTEGER,\\n    [UnitPrice] NUMERIC(10,2)  NOT NULL,\\n    CONSTRAINT [PK_Track] PRIMARY KEY  ([TrackId]),\\n    FOREIGN KEY ([AlbumId]) REFERENCES [Album] ([AlbumId]) \\n\\t\\tON DELETE NO ACTION ON UPDATE NO ACTION,\\n    FOREIGN KEY ([GenreId]) REFERENCES [Genre] ([GenreId]) \\n\\t\\tON DELETE NO ACTION ON UPDATE NO ACTION,\\n    FOREIGN KEY ([MediaTypeId]) REFERENCES [MediaType] ([MediaTypeId]) \\n\\t\\tON DELETE NO ACTION ON UPDATE NO ACTION\\n)\\n\\nCREATE TABLE [Artist]\\n(\\n    [ArtistId] INTEGER  NOT NULL,\\n    [Name] NVARCHAR(120),\\n    CONSTRAINT [PK_Artist] PRIMARY KEY  ([ArtistId])\\n)\\n\\nCREATE INDEX [IFK_InvoiceCustomerId] ON [Invoice] ([CustomerId])\\n\\nCREATE INDEX [IFK_EmployeeReportsTo] ON [Employee] ([ReportsTo])\\n\\n\\n===Additional Context \\n\\nThis is a SQLite database. For dates rememeber to use SQLite syntax.\\n\\n===Response Guidelines \\n1. If the provided context is sufficient, please generate a valid SQL query without any explanations for the question. \\n2. If the provided context is almost sufficient but requires knowledge of a specific string in a particular column, please generate an intermediate SQL query to find the distinct strings in that column. Prepend the query with a comment saying intermediate_sql \\n3. If the provided context is insufficient, please explain why it can't be generated. \\n4. Please use the most relevant table(s). \\n5. If the question has been asked and answered before, please repeat the answer exactly as it was given before. \\n6. Ensure that the output SQL is SQLite-compliant and executable, and free of syntax errors. \\n\"}, {'role': 'user', 'content': 'What is the distribution of sales by country?'}, {'role': 'assistant', 'content': 'SELECT BillingCountry AS Country, SUM(Total) AS TotalSales\\nFROM Invoice\\nGROUP BY BillingCountry;'}, {'role': 'user', 'content': 'What is the total sales for each billing country?'}, {'role': 'assistant', 'content': 'SELECT BillingCountry AS Country, SUM(Total) AS TotalSales\\nFROM Invoice\\nGROUP BY BillingCountry;'}, {'role': 'user', 'content': 'What were the total sales by year?'}, {'role': 'assistant', 'content': \"SELECT strftime('%Y', InvoiceDate) AS Year, SUM(Total) AS TotalSales\\nFROM Invoice\\nGROUP BY Year;\"}, {'role': 'user', 'content': 'Can you provide a breakdown of sales by country?'}, {'role': 'assistant', 'content': 'SELECT BillingCountry AS Country, SUM(Total) AS TotalSales\\nFROM Invoice\\nGROUP BY BillingCountry;'}, {'role': 'user', 'content': 'What are the total sales by year? Remember to use sqlite syntax'}, {'role': 'assistant', 'content': \"SELECT strftime('%Y', i.InvoiceDate) AS Year, SUM(i.Total) AS TotalSales\\nFROM Invoice i\\nGROUP BY Year;\"}, {'role': 'user', 'content': 'What is the total sales for each genre?'}, {'role': 'assistant', 'content': 'SELECT g.GenreId, g.Name AS Genre, SUM(il.Quantity) AS TotalSales\\nFROM Genre g\\nJOIN Track t ON g.GenreId = t.GenreId\\nJOIN InvoiceLine il ON t.TrackId = il.TrackId\\nGROUP BY g.GenreId, g.Name;'}, {'role': 'user', 'content': 'What are the top-selling genres in terms of total sales?'}, {'role': 'assistant', 'content': 'SELECT g.GenreId, g.Name AS Genre, SUM(il.Quantity) AS TotalSales\\nFROM Genre g\\nJOIN Track t ON g.GenreId = t.GenreId\\nJOIN InvoiceLine il ON t.TrackId = il.TrackId\\nGROUP BY g.GenreId, g.Name\\nORDER BY TotalSales DESC;'}, {'role': 'user', 'content': 'What is the total sales for each customer?'}, {'role': 'assistant', 'content': 'SELECT c.CustomerId, c.FirstName, c.LastName, SUM(i.Total) AS TotalSales\\nFROM Customer c\\nJOIN Invoice i ON c.CustomerId = i.CustomerId\\nGROUP BY c.CustomerId, c.FirstName, c.LastName;'}, {'role': 'user', 'content': 'What is the total sales of each individual artist?'}, {'role': 'assistant', 'content': 'SELECT a.ArtistId, a.Name, SUM(il.Quantity) AS TotalSales\\nFROM Artist a\\nJOIN Album al ON a.ArtistId = al.ArtistId\\nJOIN Track t ON al.AlbumId = t.AlbumId\\nJOIN InvoiceLine il ON t.TrackId = il.TrackId\\nGROUP BY a.ArtistId, a.Name;'}, {'role': 'user', 'content': 'What is the total sales for each artist?'}, {'role': 'assistant', 'content': 'SELECT a.ArtistId, a.Name, SUM(il.Quantity * il.UnitPrice) AS TotalSales\\nFROM Artist a\\nJOIN Album al ON a.ArtistId = al.ArtistId\\nJOIN Track t ON al.AlbumId = t.AlbumId\\nJOIN InvoiceLine il ON t.TrackId = il.TrackId\\nGROUP BY a.ArtistId, a.Name;'}, {'role': 'user', 'content': 'What are the total sales per year by country?'}]\n",
            "LLM Response: SELECT strftime('%Y', i.InvoiceDate) AS Year, i.BillingCountry AS Country, SUM(i.Total) AS TotalSales\n",
            "FROM Invoice i\n",
            "GROUP BY Year, Country;\n",
            "Extracted SQL: SELECT strftime('%Y', i.InvoiceDate) AS Year, i.BillingCountry AS Country, SUM(i.Total) AS TotalSales\n",
            "FROM Invoice i\n",
            "GROUP BY Year, Country;\n"
          ]
        }
      ]
    }
  ],
  "metadata": {
    "kernelspec": {
      "display_name": "Python 3",
      "name": "python3"
    },
    "language_info": {
      "name": "python"
    },
    "required_libs": [],
    "colab": {
      "provenance": [],
      "toc_visible": true,
      "gpuType": "T4",
      "include_colab_link": true
    },
    "accelerator": "GPU"
  },
  "nbformat": 4,
  "nbformat_minor": 5
}